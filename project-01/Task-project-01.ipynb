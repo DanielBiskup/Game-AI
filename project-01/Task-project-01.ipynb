{
 "cells": [
  {
   "cell_type": "markdown",
   "metadata": {},
   "source": [
    "## Project-01\n",
    "\n",
    "In this project we implement simple strategies for turn based games."
   ]
  },
  {
   "cell_type": "markdown",
   "metadata": {},
   "source": [
    "## Task 1.2.1\n",
    "Probabilistic Strategy for Tic-Tac-Toe"
   ]
  },
  {
   "cell_type": "markdown",
   "metadata": {},
   "source": [
    "In this part we implement probabilistic strategy for tic-tac-toe. \n",
    "We follow following steps:\n",
    "* Simulate 1000 games and record count of winning field of each player. Further normalize this count to obtain probabilities.\n",
    "\n",
    "* Use above obtained probabilities to make probabilistic move for player 'X'."
   ]
  },
  {
   "cell_type": "code",
   "execution_count": 1,
   "metadata": {},
   "outputs": [],
   "source": [
    "from tic_tac_toe import randomTournament, plot_histogram\n",
    "###\n",
    "#randomTournament: Function to simulate 1000 games of tic-tac-toe where each player moves uniformly at randomly. \n",
    "#                  Arguments: start_player, is 1 for 'X' and -1 for 'O'\n",
    "#                  Return: game_result, counts_x, counts_o \n",
    "#                          game_result: list containing outcome of each game in a torunament. \n",
    "#                          counts_x: count of winning fields for player 'X'. \n",
    "#                          counts_O: count of winning fields for player 'O'. \n",
    "#plot_histogram: Function to plot histogram.\n",
    "#                Arguments: game_result:list containing outcome of each game in a torunament.\n",
    "###"
   ]
  },
  {
   "cell_type": "code",
   "execution_count": 2,
   "metadata": {},
   "outputs": [
    {
     "data": {
      "image/png": "[encoded data removed]",
      "text/plain": [
       "<matplotlib.figure.Figure at 0x7f2b0eb68e80>"
      ]
     },
     "metadata": {},
     "output_type": "display_data"
    }
   ],
   "source": [
    "start_player = 1\n",
    "game_result, counts_x, counts_o = randomTournament(start_player)\n",
    "plot = plot_histogram(game_result, \"Random Tournament - Histogram of wins and loses\", 1)\n",
    "plot.show()"
   ]
  },
  {
   "cell_type": "markdown",
   "metadata": {},
   "source": [
    "(ii) Compute probabilities and save to file"
   ]
  },
  {
   "cell_type": "code",
   "execution_count": 3,
   "metadata": {
    "collapsed": true
   },
   "outputs": [],
   "source": [
    "from tic_tac_toe import determineWinMoveProbabilites, writeProbabilitiesToFile\n",
    "###\n",
    "#determineWinMoveProbabilites: Function to compute winning probability of each field for player 'X' and 'O'.\n",
    "#writeProbabilitiesToFile: Function to write probabilities to file\n",
    "###\n",
    "import pandas as pd"
   ]
  },
  {
   "cell_type": "code",
   "execution_count": 4,
   "metadata": {
    "collapsed": true
   },
   "outputs": [],
   "source": [
    "#Determine Probabilities\n",
    "probabilities_x, probabilities_o = determineWinMoveProbabilites(counts_x, counts_o)\n",
    "file = 'probabilities.txt'\n",
    "writeProbabilitiesToFile(probabilities_x, probabilities_o, file)"
   ]
  },
  {
   "cell_type": "code",
   "execution_count": 5,
   "metadata": {
    "collapsed": true
   },
   "outputs": [],
   "source": [
    "from tic_tac_toe import winningProbabilitiesTournament"
   ]
  },
  {
   "cell_type": "markdown",
   "metadata": {},
   "source": [
    "(iii) Tournament of 1000 Games where player 'X' makes move using porbabilities computed above.\n",
    "\n"
   ]
  },
  {
   "cell_type": "code",
   "execution_count": 6,
   "metadata": {},
   "outputs": [
    {
     "data": {
      "text/plain": [
       "<matplotlib.figure.Figure at 0x7f2ada45fd30>"
      ]
     },
     "metadata": {},
     "output_type": "display_data"
    },
    {
     "data": {
      "image/png": "[encoded data removed]",
      "text/plain": [
       "<matplotlib.figure.Figure at 0x7f2b084eb160>"
      ]
     },
     "metadata": {},
     "output_type": "display_data"
    }
   ],
   "source": [
    "# Move Player \n",
    "player = 1\n",
    "file = 'probabilities.txt'\n",
    "game_result = winningProbabilitiesTournament(player, file)\n",
    "plot.clf()\n",
    "plot = plot_histogram(game_result, \"Winning Probabilities Tournament - Histogram of wins and loses\", 2)\n",
    "plot.show()"
   ]
  },
  {
   "cell_type": "markdown",
   "metadata": {},
   "source": [
    "## Task-1.2.2\n",
    "\n",
    "Heuristic Strategy for Tic Tac Toe\n",
    "In this task we implement simple heuristic to decide move of player 'X'.\n",
    "Our heuristic is based on three simple steps:\n",
    "\n",
    "* $\\textbf{Reward}$: Consecutive 1's either row, column or diagonal wise.\n",
    "\n",
    "* $\\textbf{Winning Situation}$: Reward of ‘3’.\n",
    "\n",
    "Steps to find auspicious move for player ‘X’.\n",
    "\n",
    "$\\textbf{Step 1}$: For every empty field check if it can result in a winning situation of player ‘X’.\n",
    "\n",
    "                    IF True, location of field is an auspicious move. Break!\n",
    "                    ELSE, Continue to Step 2.                     \n",
    "$\\textbf{Step 2}$: For every empty field check if it can result in a winning situation of player ‘O’.\n",
    "\n",
    "                    IF True, location of field is an auspicious move. Break!\n",
    "                    ELSE, Continue to Step 3.\n",
    "$\\textbf{Step 3}$: Find empty field which can result in a maximum reward of player ‘X’.\n",
    "\n",
    "                    IF more than 1, Field where reward of ‘X’ is greater than ‘O’ is an auspicious move.\n",
    "                    ELSE, Location of field is an auspicious move."
   ]
  },
  {
   "cell_type": "code",
   "execution_count": 7,
   "metadata": {},
   "outputs": [
    {
     "data": {
      "text/plain": [
       "<matplotlib.figure.Figure at 0x7f2ada45fb70>"
      ]
     },
     "metadata": {},
     "output_type": "display_data"
    },
    {
     "data": {
      "image/png": "[encoded data removed]",
      "text/plain": [
       "<matplotlib.figure.Figure at 0x7f2ada45fcc0>"
      ]
     },
     "metadata": {},
     "output_type": "display_data"
    }
   ],
   "source": [
    "from tic_tac_toe import heuristic_tournament\n",
    "\n",
    "number_games=1000\n",
    "start_player= 1\n",
    "game_result = heuristic_tournament(start_player, number_games)\n",
    "plot = plot.clf()\n",
    "plot = plot_histogram(game_result, \"Heuristic Tournament - Histogram of wins and loses\", 3)\n",
    "plot.show()"
   ]
  },
  {
   "cell_type": "markdown",
   "metadata": {},
   "source": [
    "## Task-1.3.1\n",
    "Connect 4\n",
    "\n",
    "In this task we implement mechanics of connect 4 and a GUI interface.\n",
    "\n",
    "Mechanics of Connect 4:\n",
    "\n",
    "* Red always starts first.\n",
    "* A counter is kept to keep track of number of dices filled in every column.\n",
    "* The player in turn chooses a unfilled column randomly\n",
    "* Winning condition:\n",
    "    * Whether the horizontal rows have similar consecutive dices > 4\n",
    "    * Whether the vertical columns have similar consecutive dices > 4\n",
    "    * Whether the diagonals with size > 4 have similar consecutive dices > 4\n"
   ]
  },
  {
   "cell_type": "code",
   "execution_count": 8,
   "metadata": {
    "collapsed": true
   },
   "outputs": [],
   "source": [
    "from connect4 import play"
   ]
  },
  {
   "cell_type": "code",
   "execution_count": 9,
   "metadata": {},
   "outputs": [
    {
     "name": "stdout",
     "output_type": "stream",
     "text": [
      "R moves\n",
      "[[' ' ' ' ' ' 'R' ' ' ' ' ' ']\n",
      " [' ' ' ' ' ' ' ' ' ' ' ' ' ']\n",
      " [' ' ' ' ' ' ' ' ' ' ' ' ' ']\n",
      " [' ' ' ' ' ' ' ' ' ' ' ' ' ']\n",
      " [' ' ' ' ' ' ' ' ' ' ' ' ' ']\n",
      " [' ' ' ' ' ' ' ' ' ' ' ' ' ']]\n",
      "Y moves\n",
      "[[' ' ' ' ' ' 'R' ' ' ' ' 'Y']\n",
      " [' ' ' ' ' ' ' ' ' ' ' ' ' ']\n",
      " [' ' ' ' ' ' ' ' ' ' ' ' ' ']\n",
      " [' ' ' ' ' ' ' ' ' ' ' ' ' ']\n",
      " [' ' ' ' ' ' ' ' ' ' ' ' ' ']\n",
      " [' ' ' ' ' ' ' ' ' ' ' ' ' ']]\n",
      "R moves\n",
      "[[' ' ' ' 'R' 'R' ' ' ' ' 'Y']\n",
      " [' ' ' ' ' ' ' ' ' ' ' ' ' ']\n",
      " [' ' ' ' ' ' ' ' ' ' ' ' ' ']\n",
      " [' ' ' ' ' ' ' ' ' ' ' ' ' ']\n",
      " [' ' ' ' ' ' ' ' ' ' ' ' ' ']\n",
      " [' ' ' ' ' ' ' ' ' ' ' ' ' ']]\n",
      "Y moves\n",
      "[[' ' 'Y' 'R' 'R' ' ' ' ' 'Y']\n",
      " [' ' ' ' ' ' ' ' ' ' ' ' ' ']\n",
      " [' ' ' ' ' ' ' ' ' ' ' ' ' ']\n",
      " [' ' ' ' ' ' ' ' ' ' ' ' ' ']\n",
      " [' ' ' ' ' ' ' ' ' ' ' ' ' ']\n",
      " [' ' ' ' ' ' ' ' ' ' ' ' ' ']]\n",
      "R moves\n",
      "[[' ' 'Y' 'R' 'R' ' ' 'R' 'Y']\n",
      " [' ' ' ' ' ' ' ' ' ' ' ' ' ']\n",
      " [' ' ' ' ' ' ' ' ' ' ' ' ' ']\n",
      " [' ' ' ' ' ' ' ' ' ' ' ' ' ']\n",
      " [' ' ' ' ' ' ' ' ' ' ' ' ' ']\n",
      " [' ' ' ' ' ' ' ' ' ' ' ' ' ']]\n",
      "Y moves\n",
      "[[' ' 'Y' 'R' 'R' ' ' 'R' 'Y']\n",
      " [' ' ' ' ' ' ' ' ' ' ' ' 'Y']\n",
      " [' ' ' ' ' ' ' ' ' ' ' ' ' ']\n",
      " [' ' ' ' ' ' ' ' ' ' ' ' ' ']\n",
      " [' ' ' ' ' ' ' ' ' ' ' ' ' ']\n",
      " [' ' ' ' ' ' ' ' ' ' ' ' ' ']]\n",
      "R moves\n",
      "[[' ' 'Y' 'R' 'R' ' ' 'R' 'Y']\n",
      " [' ' ' ' ' ' 'R' ' ' ' ' 'Y']\n",
      " [' ' ' ' ' ' ' ' ' ' ' ' ' ']\n",
      " [' ' ' ' ' ' ' ' ' ' ' ' ' ']\n",
      " [' ' ' ' ' ' ' ' ' ' ' ' ' ']\n",
      " [' ' ' ' ' ' ' ' ' ' ' ' ' ']]\n",
      "Y moves\n",
      "[[' ' 'Y' 'R' 'R' ' ' 'R' 'Y']\n",
      " [' ' ' ' ' ' 'R' ' ' 'Y' 'Y']\n",
      " [' ' ' ' ' ' ' ' ' ' ' ' ' ']\n",
      " [' ' ' ' ' ' ' ' ' ' ' ' ' ']\n",
      " [' ' ' ' ' ' ' ' ' ' ' ' ' ']\n",
      " [' ' ' ' ' ' ' ' ' ' ' ' ' ']]\n",
      "R moves\n",
      "[['R' 'Y' 'R' 'R' ' ' 'R' 'Y']\n",
      " [' ' ' ' ' ' 'R' ' ' 'Y' 'Y']\n",
      " [' ' ' ' ' ' ' ' ' ' ' ' ' ']\n",
      " [' ' ' ' ' ' ' ' ' ' ' ' ' ']\n",
      " [' ' ' ' ' ' ' ' ' ' ' ' ' ']\n",
      " [' ' ' ' ' ' ' ' ' ' ' ' ' ']]\n",
      "Y moves\n",
      "[['R' 'Y' 'R' 'R' ' ' 'R' 'Y']\n",
      " [' ' ' ' ' ' 'R' ' ' 'Y' 'Y']\n",
      " [' ' ' ' ' ' ' ' ' ' ' ' 'Y']\n",
      " [' ' ' ' ' ' ' ' ' ' ' ' ' ']\n",
      " [' ' ' ' ' ' ' ' ' ' ' ' ' ']\n",
      " [' ' ' ' ' ' ' ' ' ' ' ' ' ']]\n",
      "R moves\n",
      "[['R' 'Y' 'R' 'R' ' ' 'R' 'Y']\n",
      " [' ' ' ' 'R' 'R' ' ' 'Y' 'Y']\n",
      " [' ' ' ' ' ' ' ' ' ' ' ' 'Y']\n",
      " [' ' ' ' ' ' ' ' ' ' ' ' ' ']\n",
      " [' ' ' ' ' ' ' ' ' ' ' ' ' ']\n",
      " [' ' ' ' ' ' ' ' ' ' ' ' ' ']]\n",
      "Y moves\n",
      "[['R' 'Y' 'R' 'R' ' ' 'R' 'Y']\n",
      " [' ' ' ' 'R' 'R' ' ' 'Y' 'Y']\n",
      " [' ' ' ' ' ' ' ' ' ' 'Y' 'Y']\n",
      " [' ' ' ' ' ' ' ' ' ' ' ' ' ']\n",
      " [' ' ' ' ' ' ' ' ' ' ' ' ' ']\n",
      " [' ' ' ' ' ' ' ' ' ' ' ' ' ']]\n",
      "R moves\n",
      "[['R' 'Y' 'R' 'R' ' ' 'R' 'Y']\n",
      " [' ' ' ' 'R' 'R' ' ' 'Y' 'Y']\n",
      " [' ' ' ' ' ' 'R' ' ' 'Y' 'Y']\n",
      " [' ' ' ' ' ' ' ' ' ' ' ' ' ']\n",
      " [' ' ' ' ' ' ' ' ' ' ' ' ' ']\n",
      " [' ' ' ' ' ' ' ' ' ' ' ' ' ']]\n",
      "Y moves\n",
      "[['R' 'Y' 'R' 'R' ' ' 'R' 'Y']\n",
      " ['Y' ' ' 'R' 'R' ' ' 'Y' 'Y']\n",
      " [' ' ' ' ' ' 'R' ' ' 'Y' 'Y']\n",
      " [' ' ' ' ' ' ' ' ' ' ' ' ' ']\n",
      " [' ' ' ' ' ' ' ' ' ' ' ' ' ']\n",
      " [' ' ' ' ' ' ' ' ' ' ' ' ' ']]\n",
      "R moves\n",
      "[['R' 'Y' 'R' 'R' ' ' 'R' 'Y']\n",
      " ['Y' 'R' 'R' 'R' ' ' 'Y' 'Y']\n",
      " [' ' ' ' ' ' 'R' ' ' 'Y' 'Y']\n",
      " [' ' ' ' ' ' ' ' ' ' ' ' ' ']\n",
      " [' ' ' ' ' ' ' ' ' ' ' ' ' ']\n",
      " [' ' ' ' ' ' ' ' ' ' ' ' ' ']]\n",
      "Y moves\n",
      "[['R' 'Y' 'R' 'R' ' ' 'R' 'Y']\n",
      " ['Y' 'R' 'R' 'R' ' ' 'Y' 'Y']\n",
      " [' ' ' ' ' ' 'R' ' ' 'Y' 'Y']\n",
      " [' ' ' ' ' ' ' ' ' ' ' ' 'Y']\n",
      " [' ' ' ' ' ' ' ' ' ' ' ' ' ']\n",
      " [' ' ' ' ' ' ' ' ' ' ' ' ' ']]\n",
      "Vertical\n",
      "player Y wins after 16 moves\n"
     ]
    },
    {
     "data": {
      "text/plain": [
       "-1"
      ]
     },
     "execution_count": 9,
     "metadata": {},
     "output_type": "execute_result"
    }
   ],
   "source": [
    "play()"
   ]
  },
  {
   "cell_type": "code",
   "execution_count": 10,
   "metadata": {},
   "outputs": [],
   "source": [
    "from connect4 import random_tournament, plot_histogram as plot_connect4"
   ]
  },
  {
   "cell_type": "code",
   "execution_count": 11,
   "metadata": {},
   "outputs": [
    {
     "data": {
      "image/png": "[encoded data removed]",
      "text/plain": [
       "<matplotlib.figure.Figure at 0x7f2ad67b64a8>"
      ]
     },
     "metadata": {},
     "output_type": "display_data"
    }
   ],
   "source": [
    "wins_losses_draws = random_tournament()\n",
    "plot_connect4(wins_losses_draws)"
   ]
  },
  {
   "cell_type": "markdown",
   "metadata": {},
   "source": [
    "## Task-1.3.2\n"
   ]
  },
  {
   "cell_type": "code",
   "execution_count": 12,
   "metadata": {},
   "outputs": [],
   "source": [
    "from connect4GUI import run_gui"
   ]
  },
  {
   "cell_type": "code",
   "execution_count": 13,
   "metadata": {},
   "outputs": [
    {
     "name": "stdout",
     "output_type": "stream",
     "text": [
      "R moves\n",
      "[[' ' ' ' ' ' 'R' ' ' ' ' ' ']\n",
      " [' ' ' ' ' ' ' ' ' ' ' ' ' ']\n",
      " [' ' ' ' ' ' ' ' ' ' ' ' ' ']\n",
      " [' ' ' ' ' ' ' ' ' ' ' ' ' ']\n",
      " [' ' ' ' ' ' ' ' ' ' ' ' ' ']\n",
      " [' ' ' ' ' ' ' ' ' ' ' ' ' ']]\n",
      "Y moves\n",
      "[[' ' 'Y' ' ' 'R' ' ' ' ' ' ']\n",
      " [' ' ' ' ' ' ' ' ' ' ' ' ' ']\n",
      " [' ' ' ' ' ' ' ' ' ' ' ' ' ']\n",
      " [' ' ' ' ' ' ' ' ' ' ' ' ' ']\n",
      " [' ' ' ' ' ' ' ' ' ' ' ' ' ']\n",
      " [' ' ' ' ' ' ' ' ' ' ' ' ' ']]\n",
      "R moves\n",
      "[[' ' 'Y' ' ' 'R' 'R' ' ' ' ']\n",
      " [' ' ' ' ' ' ' ' ' ' ' ' ' ']\n",
      " [' ' ' ' ' ' ' ' ' ' ' ' ' ']\n",
      " [' ' ' ' ' ' ' ' ' ' ' ' ' ']\n",
      " [' ' ' ' ' ' ' ' ' ' ' ' ' ']\n",
      " [' ' ' ' ' ' ' ' ' ' ' ' ' ']]\n",
      "Y moves\n",
      "[[' ' 'Y' ' ' 'R' 'R' ' ' ' ']\n",
      " [' ' ' ' ' ' ' ' 'Y' ' ' ' ']\n",
      " [' ' ' ' ' ' ' ' ' ' ' ' ' ']\n",
      " [' ' ' ' ' ' ' ' ' ' ' ' ' ']\n",
      " [' ' ' ' ' ' ' ' ' ' ' ' ' ']\n",
      " [' ' ' ' ' ' ' ' ' ' ' ' ' ']]\n",
      "R moves\n",
      "[[' ' 'Y' 'R' 'R' 'R' ' ' ' ']\n",
      " [' ' ' ' ' ' ' ' 'Y' ' ' ' ']\n",
      " [' ' ' ' ' ' ' ' ' ' ' ' ' ']\n",
      " [' ' ' ' ' ' ' ' ' ' ' ' ' ']\n",
      " [' ' ' ' ' ' ' ' ' ' ' ' ' ']\n",
      " [' ' ' ' ' ' ' ' ' ' ' ' ' ']]\n"
     ]
    }
   ],
   "source": [
    "run_gui()"
   ]
  },
  {
   "cell_type": "code",
   "execution_count": null,
   "metadata": {
    "collapsed": true
   },
   "outputs": [],
   "source": []
  }
 ],
 "metadata": {
  "kernelspec": {
   "display_name": "Python 3",
   "language": "python",
   "name": "python3"
  },
  "language_info": {
   "codemirror_mode": {
    "name": "ipython",
    "version": 3
   },
   "file_extension": ".py",
   "mimetype": "text/x-python",
   "name": "python",
   "nbconvert_exporter": "python",
   "pygments_lexer": "ipython3",
   "version": "3.6.1"
  }
 },
 "nbformat": 4,
 "nbformat_minor": 2
}
